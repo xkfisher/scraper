{
 "cells": [
  {
   "cell_type": "code",
   "execution_count": 1,
   "metadata": {
    "collapsed": true
   },
   "outputs": [],
   "source": [
    "import numpy as np\n",
    "import pandas as pd\n",
    "import requests\n",
    "from bs4 import BeautifulSoup\n",
    "from datetime import datetime, date"
   ]
  },
  {
   "cell_type": "code",
   "execution_count": 2,
   "metadata": {
    "collapsed": true
   },
   "outputs": [],
   "source": [
    "import urllib, urllib2\n",
    "from bs4 import BeautifulSoup, Comment\n",
    "# masterURL='http://www.realtor.com/realestateandhomes-search/Chicago_IL'\n",
    "page =1\n",
    "masterURL ='http://www.realtor.com/realestateandhomes-search/Chicago_IL/pg-{0}?pgsz=50'.format(page)\n",
    "content = urllib2.urlopen(masterURL).read()\n",
    "soup = BeautifulSoup(content, \"html.parser\")\n",
    "# /realestateandhomes-detail/7234-W-Palmer-St_Elmwood-Park_IL_60707_M78080-29578?turbo=1"
   ]
  },
  {
   "cell_type": "code",
   "execution_count": 4,
   "metadata": {
    "collapsed": false
   },
   "outputs": [],
   "source": [
    "rows =soup.find_all('ul',attrs={\"class\" : \"list-unstyled\"})\n",
    "urlPostfix = []\n",
    "for row in rows:\n",
    "    lis = row.find_all('li')\n",
    "    for li in lis:\n",
    "        if li.a:\n",
    "            url=li.a['href']\n",
    "            if url.startswith('/realestateandhomes-detail'):\n",
    "                urlPostfix.append(url)"
   ]
  },
  {
   "cell_type": "code",
   "execution_count": null,
   "metadata": {
    "collapsed": false
   },
   "outputs": [],
   "source": []
  },
  {
   "cell_type": "code",
   "execution_count": 13,
   "metadata": {
    "collapsed": false
   },
   "outputs": [
    {
     "name": "stdout",
     "output_type": "stream",
     "text": [
      "http://www.realtor.com//realestateandhomes-detail/4848-N-Sheridan-Rd-Apt-609_Chicago_IL_60640_M89108-73541\n",
      "[]\n"
     ]
    }
   ],
   "source": [
    "for url in urlPostfix[:1]:\n",
    "    detailURL = 'http://www.realtor.com/'+url\n",
    "    content = urllib2.urlopen(masterURL).read()\n",
    "    soup = BeautifulSoup(content, \"html.parser\")\n",
    "#     row=soup.find_all('div',attrs={\"class\" : \"ldp-header-price\"})\n",
    "    print detailURL\n",
    "    print soup.find_all('div',attrs={\"itemprop\":\"offers\"})\n",
    "    \n",
    "    "
   ]
  },
  {
   "cell_type": "code",
   "execution_count": null,
   "metadata": {
    "collapsed": true
   },
   "outputs": [],
   "source": [
    "proxy_dic = {\"http\" : \"http://117.169.66.107:80\"}\n",
    "request = requests.get(detailURL, proxies=proxy_dic)\n",
    "property_content = urllib2.urlopen(detailURL).read()"
   ]
  },
  {
   "cell_type": "code",
   "execution_count": 14,
   "metadata": {
    "collapsed": false
   },
   "outputs": [],
   "source": [
    "\n"
   ]
  },
  {
   "cell_type": "code",
   "execution_count": 16,
   "metadata": {
    "collapsed": false
   },
   "outputs": [
    {
     "ename": "NameError",
     "evalue": "name 'reader' is not defined",
     "output_type": "error",
     "traceback": [
      "\u001b[0;31m---------------------------------------------------------------------------\u001b[0m",
      "\u001b[0;31mNameError\u001b[0m                                 Traceback (most recent call last)",
      "\u001b[0;32m<ipython-input-16-ef3f90866ba0>\u001b[0m in \u001b[0;36m<module>\u001b[0;34m()\u001b[0m\n\u001b[1;32m      3\u001b[0m \u001b[0;32mwith\u001b[0m \u001b[0mopen\u001b[0m\u001b[0;34m(\u001b[0m\u001b[0;34m'proxylist-2016-05-15-15-23-32.txt'\u001b[0m\u001b[0;34m,\u001b[0m \u001b[0;34m'r'\u001b[0m\u001b[0;34m)\u001b[0m \u001b[0;32mas\u001b[0m \u001b[0mf\u001b[0m\u001b[0;34m:\u001b[0m\u001b[0;34m\u001b[0m\u001b[0m\n\u001b[1;32m      4\u001b[0m   \u001b[0mproxies\u001b[0m \u001b[0;34m=\u001b[0m \u001b[0mcsv\u001b[0m\u001b[0;34m.\u001b[0m\u001b[0mreader\u001b[0m\u001b[0;34m(\u001b[0m\u001b[0mf\u001b[0m\u001b[0;34m)\u001b[0m\u001b[0;34m\u001b[0m\u001b[0m\n\u001b[0;32m----> 5\u001b[0;31m   \u001b[0myour_list\u001b[0m \u001b[0;34m=\u001b[0m \u001b[0mlist\u001b[0m\u001b[0;34m(\u001b[0m\u001b[0mreader\u001b[0m\u001b[0;34m)\u001b[0m\u001b[0;34m\u001b[0m\u001b[0m\n\u001b[0m\u001b[1;32m      6\u001b[0m \u001b[0;34m\u001b[0m\u001b[0m\n\u001b[1;32m      7\u001b[0m \u001b[0;32mprint\u001b[0m \u001b[0myour_list\u001b[0m\u001b[0;34m\u001b[0m\u001b[0m\n",
      "\u001b[0;31mNameError\u001b[0m: name 'reader' is not defined"
     ]
    }
   ],
   "source": [
    "import csv\n",
    "\n",
    "with open('proxylist-2016-05-15-15-23-32.txt', 'r') as f:\n",
    "  proxies = csv.reader(f)\n",
    "  your_list = list(reader)\n",
    "\n",
    "print your_list"
   ]
  },
  {
   "cell_type": "code",
   "execution_count": null,
   "metadata": {
    "collapsed": true
   },
   "outputs": [],
   "source": []
  }
 ],
 "metadata": {
  "kernelspec": {
   "display_name": "Python 2",
   "language": "python",
   "name": "python2"
  },
  "language_info": {
   "codemirror_mode": {
    "name": "ipython",
    "version": 2
   },
   "file_extension": ".py",
   "mimetype": "text/x-python",
   "name": "python",
   "nbconvert_exporter": "python",
   "pygments_lexer": "ipython2",
   "version": "2.7.10"
  }
 },
 "nbformat": 4,
 "nbformat_minor": 0
}
